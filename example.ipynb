{
 "cells": [
  {
   "cell_type": "code",
   "execution_count": 6,
   "metadata": {},
   "outputs": [],
   "source": [
    "import os\n",
    "import torch\n",
    "import librosa\n",
    "\n",
    "import numpy as np\n",
    "import matplotlib.pyplot as plt\n",
    "%matplotlib inline\n",
    "\n",
    "from datasets import AudioDataset\n",
    "\n",
    "# hyper parameters\n",
    "MAX_EPOCH = 100"
   ]
  },
  {
   "cell_type": "code",
   "execution_count": 7,
   "metadata": {},
   "outputs": [],
   "source": [
    "# path to raw data\n",
    "data_path = \"/home/tiz007/228/228_data/UrbanSound8K/audio/\"\n",
    "# path to extracted data\n",
    "feature_path = \"/home/tiz007/228/228_data/UrbanSound8K/spec/\"\n",
    "# path to label\n",
    "label_path = \"/home/tiz007/228/228_data/UrbanSound8K/metadata/UrbanSound8K.csv\"        "
   ]
  },
  {
   "cell_type": "code",
   "execution_count": 8,
   "metadata": {},
   "outputs": [],
   "source": [
    "# initialize dataset\n",
    "audio_dataset = AudioDataset(3, DataPath=data_path, FeaturePath=feature_path, LabelPath=label_path)"
   ]
  },
  {
   "cell_type": "code",
   "execution_count": 10,
   "metadata": {},
   "outputs": [],
   "source": [
    "# initialize dataloader\n",
    "data_loader = torch.utils.data.DataLoader(audio_dataset, batch_size=16, shuffle=True, num_workers=1)"
   ]
  },
  {
   "cell_type": "code",
   "execution_count": null,
   "metadata": {
    "scrolled": true
   },
   "outputs": [],
   "source": [
    "for epoch in range(MAX_EPOCH):\n",
    "    # iterate through dataset\n",
    "    for idx, data in enumerate(data_loader):\n",
    "        imgs, labels = data\n",
    "          "
   ]
  },
  {
   "cell_type": "code",
   "execution_count": null,
   "metadata": {},
   "outputs": [],
   "source": []
  }
 ],
 "metadata": {
  "kernelspec": {
   "display_name": "Python 3",
   "language": "python",
   "name": "python3"
  },
  "language_info": {
   "codemirror_mode": {
    "name": "ipython",
    "version": 3
   },
   "file_extension": ".py",
   "mimetype": "text/x-python",
   "name": "python",
   "nbconvert_exporter": "python",
   "pygments_lexer": "ipython3",
   "version": "3.7.3"
  }
 },
 "nbformat": 4,
 "nbformat_minor": 2
}
